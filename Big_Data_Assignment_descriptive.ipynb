{
  "nbformat": 4,
  "nbformat_minor": 0,
  "metadata": {
    "colab": {
      "name": "Big Data Assignment  - descriptive",
      "provenance": [],
      "toc_visible": true,
      "machine_shape": "hm",
      "authorship_tag": "ABX9TyO5PY5g5co+wIz5h/Qqc6ah",
      "include_colab_link": true
    },
    "kernelspec": {
      "name": "python3",
      "display_name": "Python 3"
    },
    "accelerator": "TPU"
  },
  "cells": [
    {
      "cell_type": "markdown",
      "metadata": {
        "id": "view-in-github",
        "colab_type": "text"
      },
      "source": [
        "<a href=\"https://colab.research.google.com/github/harini9804/big-data-assignment/blob/master/Big_Data_Assignment_descriptive.ipynb\" target=\"_parent\"><img src=\"https://colab.research.google.com/assets/colab-badge.svg\" alt=\"Open In Colab\"/></a>"
      ]
    },
    {
      "cell_type": "markdown",
      "metadata": {
        "id": "3CVAYK7oj0wz",
        "colab_type": "text"
      },
      "source": [
        "Dataset obtained from: https://plants.sc.egov.usda.gov/java/stateDownload?statefips=US04\n",
        "\n",
        "Available in the file 'data.txt'"
      ]
    },
    {
      "cell_type": "code",
      "metadata": {
        "id": "lc9dW9mQwXCj",
        "colab_type": "code",
        "colab": {}
      },
      "source": [
        "import pandas as pd\n",
        "from sklearn.preprocessing import OneHotEncoder, OrdinalEncoder\n",
        "from sklearn.impute import KNNImputer\n",
        "import seaborn as sns\n",
        "import matplotlib.pyplot as plt\n",
        "import numpy as np\n",
        "# --- #\n",
        "# used in Theils' U \n",
        "from collections import Counter\n",
        "import math\n",
        "import scipy.stats as ss\n",
        "import scipy.cluster.hierarchy as sch"
      ],
      "execution_count": 0,
      "outputs": []
    },
    {
      "cell_type": "markdown",
      "metadata": {
        "id": "BAvC60opks3q",
        "colab_type": "text"
      },
      "source": [
        "# Descriptive Analytics\n",
        "Let's read the file and take a look:"
      ]
    },
    {
      "cell_type": "code",
      "metadata": {
        "id": "BBVmovJFRGPW",
        "colab_type": "code",
        "outputId": "f1964090-678b-4444-e356-ff4f67619954",
        "colab": {
          "base_uri": "https://localhost:8080/",
          "height": 198
        }
      },
      "source": [
        "data = pd.read_csv('data.txt')\n",
        "data.head()"
      ],
      "execution_count": 0,
      "outputs": [
        {
          "output_type": "execute_result",
          "data": {
            "text/html": [
              "<div>\n",
              "<style scoped>\n",
              "    .dataframe tbody tr th:only-of-type {\n",
              "        vertical-align: middle;\n",
              "    }\n",
              "\n",
              "    .dataframe tbody tr th {\n",
              "        vertical-align: top;\n",
              "    }\n",
              "\n",
              "    .dataframe thead th {\n",
              "        text-align: right;\n",
              "    }\n",
              "</style>\n",
              "<table border=\"1\" class=\"dataframe\">\n",
              "  <thead>\n",
              "    <tr style=\"text-align: right;\">\n",
              "      <th></th>\n",
              "      <th>Symbol</th>\n",
              "      <th>Synonym Symbol</th>\n",
              "      <th>Scientific Name with Author</th>\n",
              "      <th>National Common Name</th>\n",
              "      <th>Family</th>\n",
              "    </tr>\n",
              "  </thead>\n",
              "  <tbody>\n",
              "    <tr>\n",
              "      <th>0</th>\n",
              "      <td>ANISA</td>\n",
              "      <td>NaN</td>\n",
              "      <td>Anisacanthus Nees</td>\n",
              "      <td>desert honeysuckle</td>\n",
              "      <td>Acanthaceae</td>\n",
              "    </tr>\n",
              "    <tr>\n",
              "      <th>1</th>\n",
              "      <td>ANTH2</td>\n",
              "      <td>NaN</td>\n",
              "      <td>Anisacanthus thurberi (Torr.) A. Gray</td>\n",
              "      <td>Thurber's desert honeysuckle</td>\n",
              "      <td>Acanthaceae</td>\n",
              "    </tr>\n",
              "    <tr>\n",
              "      <th>2</th>\n",
              "      <td>ANTH2</td>\n",
              "      <td>DRTH3</td>\n",
              "      <td>Drejera thurberi Torr.</td>\n",
              "      <td>NaN</td>\n",
              "      <td>Acanthaceae</td>\n",
              "    </tr>\n",
              "    <tr>\n",
              "      <th>3</th>\n",
              "      <td>CAAR7</td>\n",
              "      <td>NaN</td>\n",
              "      <td>Carlowrightia arizonica A. Gray</td>\n",
              "      <td>Arizona wrightwort</td>\n",
              "      <td>Acanthaceae</td>\n",
              "    </tr>\n",
              "    <tr>\n",
              "      <th>4</th>\n",
              "      <td>CALI2</td>\n",
              "      <td>NaN</td>\n",
              "      <td>Carlowrightia linearifolia (Torr.) A. Gray</td>\n",
              "      <td>heath wrightwort</td>\n",
              "      <td>Acanthaceae</td>\n",
              "    </tr>\n",
              "  </tbody>\n",
              "</table>\n",
              "</div>"
            ],
            "text/plain": [
              "  Symbol Synonym Symbol  ...          National Common Name       Family\n",
              "0  ANISA            NaN  ...            desert honeysuckle  Acanthaceae\n",
              "1  ANTH2            NaN  ...  Thurber's desert honeysuckle  Acanthaceae\n",
              "2  ANTH2          DRTH3  ...                           NaN  Acanthaceae\n",
              "3  CAAR7            NaN  ...            Arizona wrightwort  Acanthaceae\n",
              "4  CALI2            NaN  ...              heath wrightwort  Acanthaceae\n",
              "\n",
              "[5 rows x 5 columns]"
            ]
          },
          "metadata": {
            "tags": []
          },
          "execution_count": 2
        }
      ]
    },
    {
      "cell_type": "markdown",
      "metadata": {
        "id": "Gm6ssAmGlW4M",
        "colab_type": "text"
      },
      "source": [
        "\n",
        "Let's take a look at attribute types and number of non null values"
      ]
    },
    {
      "cell_type": "code",
      "metadata": {
        "id": "AJpGKkrvROPz",
        "colab_type": "code",
        "outputId": "2b81a713-d5b2-4b1d-9842-cef3c6b1f7f1",
        "colab": {
          "base_uri": "https://localhost:8080/",
          "height": 196
        }
      },
      "source": [
        "data.info()"
      ],
      "execution_count": 0,
      "outputs": [
        {
          "output_type": "stream",
          "text": [
            "<class 'pandas.core.frame.DataFrame'>\n",
            "RangeIndex: 16424 entries, 0 to 16423\n",
            "Data columns (total 5 columns):\n",
            "Symbol                         16424 non-null object\n",
            "Synonym Symbol                 9595 non-null object\n",
            "Scientific Name with Author    16424 non-null object\n",
            "National Common Name           6816 non-null object\n",
            "Family                         16424 non-null object\n",
            "dtypes: object(5)\n",
            "memory usage: 641.7+ KB\n"
          ],
          "name": "stdout"
        }
      ]
    },
    {
      "cell_type": "markdown",
      "metadata": {
        "id": "3hu2nHBTlrTs",
        "colab_type": "text"
      },
      "source": [
        "Now let's look at the number of categories in an attribute and the number of records in each:"
      ]
    },
    {
      "cell_type": "code",
      "metadata": {
        "id": "THXxV-i4mf9A",
        "colab_type": "code",
        "outputId": "ad02e3c3-627f-4ec1-9806-efd531ed7aee",
        "colab": {
          "base_uri": "https://localhost:8080/",
          "height": 71
        }
      },
      "source": [
        "data.columns"
      ],
      "execution_count": 0,
      "outputs": [
        {
          "output_type": "execute_result",
          "data": {
            "text/plain": [
              "Index(['Symbol', 'Synonym Symbol', 'Scientific Name with Author',\n",
              "       'National Common Name', 'Family'],\n",
              "      dtype='object')"
            ]
          },
          "metadata": {
            "tags": []
          },
          "execution_count": 4
        }
      ]
    },
    {
      "cell_type": "code",
      "metadata": {
        "id": "nRRhoyyulQMs",
        "colab_type": "code",
        "outputId": "c5f93b97-a8d2-4b8f-b2ad-352c177f2550",
        "colab": {
          "base_uri": "https://localhost:8080/",
          "height": 232
        }
      },
      "source": [
        "data['Symbol'].value_counts()"
      ],
      "execution_count": 0,
      "outputs": [
        {
          "output_type": "execute_result",
          "data": {
            "text/plain": [
              "MIGU      70\n",
              "DECE      46\n",
              "CRSU5     44\n",
              "DOVI      36\n",
              "MACAC3    34\n",
              "          ..\n",
              "RATR       1\n",
              "TETRA      1\n",
              "BOUVA      1\n",
              "ERCE2      1\n",
              "VACCA      1\n",
              "Name: Symbol, Length: 6829, dtype: int64"
            ]
          },
          "metadata": {
            "tags": []
          },
          "execution_count": 5
        }
      ]
    },
    {
      "cell_type": "code",
      "metadata": {
        "id": "0WzWQcUJl_Xw",
        "colab_type": "code",
        "outputId": "01cd2633-f74a-49b8-a202-16153c6546b0",
        "colab": {
          "base_uri": "https://localhost:8080/",
          "height": 232
        }
      },
      "source": [
        "data['Synonym Symbol'].value_counts()"
      ],
      "execution_count": 0,
      "outputs": [
        {
          "output_type": "execute_result",
          "data": {
            "text/plain": [
              "POVUH     1\n",
              "LEDET     1\n",
              "PEOP3     1\n",
              "CRDOR2    1\n",
              "EUAL5     1\n",
              "         ..\n",
              "MUWO      1\n",
              "COVII     1\n",
              "TRCOA     1\n",
              "GEBA6     1\n",
              "PHSE8     1\n",
              "Name: Synonym Symbol, Length: 9595, dtype: int64"
            ]
          },
          "metadata": {
            "tags": []
          },
          "execution_count": 6
        }
      ]
    },
    {
      "cell_type": "code",
      "metadata": {
        "id": "Ql8cdfCbpFXQ",
        "colab_type": "code",
        "outputId": "e9d47cee-a5fb-45ea-ea4b-9b43836ae943",
        "colab": {
          "base_uri": "https://localhost:8080/",
          "height": 232
        }
      },
      "source": [
        "data['Scientific Name with Author'].value_counts()"
      ],
      "execution_count": 0,
      "outputs": [
        {
          "output_type": "execute_result",
          "data": {
            "text/plain": [
              "Strombocarpa odorata A. Gray                                                   1\n",
              "Torulinium confertum Desv. ex Ham.                                             1\n",
              "Agrostis elliottiana Schult.                                                   1\n",
              "Cenchrus carolinianus Walter, nom. utique rej.                                 1\n",
              "Arceuthobium microcarpum (Engelm.) Hawksw. & Wiens                             1\n",
              "                                                                              ..\n",
              "Gaura gracilis Wooton & Standl. var. typica Munz                               1\n",
              "Potamogeton foliosus Raf. ssp. foliosus                                        1\n",
              "Plantago hirtella Kunth var. mollior Pilg.                                     1\n",
              "Lantana horrida Kunth var. latibracteata Moldenke                              1\n",
              "Opuntia occidentalis Engelm. & J.M. Bigelow var. megacarpa (Griffiths) Munz    1\n",
              "Name: Scientific Name with Author, Length: 16424, dtype: int64"
            ]
          },
          "metadata": {
            "tags": []
          },
          "execution_count": 7
        }
      ]
    },
    {
      "cell_type": "code",
      "metadata": {
        "id": "ptVT-HNupIty",
        "colab_type": "code",
        "outputId": "762f6f34-0adc-4d56-fe99-c89130bd0299",
        "colab": {
          "base_uri": "https://localhost:8080/",
          "height": 232
        }
      },
      "source": [
        "data['National Common Name'].value_counts()"
      ],
      "execution_count": 0,
      "outputs": [
        {
          "output_type": "execute_result",
          "data": {
            "text/plain": [
              "rubber rabbitbrush          13\n",
              "freckled milkvetch           9\n",
              "yellow rabbitbrush           8\n",
              "hoary tansyaster             7\n",
              "groundcover milkvetch        7\n",
              "                            ..\n",
              "sycamore muhly               1\n",
              "sweetjuice                   1\n",
              "muhly                        1\n",
              "wild dwarf morning-glory     1\n",
              "manyflower stickseed         1\n",
              "Name: National Common Name, Length: 5348, dtype: int64"
            ]
          },
          "metadata": {
            "tags": []
          },
          "execution_count": 8
        }
      ]
    },
    {
      "cell_type": "code",
      "metadata": {
        "id": "GG9ZHxmWpMeW",
        "colab_type": "code",
        "outputId": "065c28f2-3f58-4f72-b13a-f05b138dd217",
        "colab": {
          "base_uri": "https://localhost:8080/",
          "height": 232
        }
      },
      "source": [
        "data['Family'].value_counts()"
      ],
      "execution_count": 0,
      "outputs": [
        {
          "output_type": "execute_result",
          "data": {
            "text/plain": [
              "Asteraceae          2596\n",
              "Poaceae             1934\n",
              "Fabaceae            1277\n",
              "Brassicaceae         577\n",
              "Scrophulariaceae     518\n",
              "                    ... \n",
              "Lecanoraceae           1\n",
              "Acarosporaceae         1\n",
              "Teloschistaceae        1\n",
              "Cladoniaceae           1\n",
              "Hymeneliaceae          1\n",
              "Name: Family, Length: 169, dtype: int64"
            ]
          },
          "metadata": {
            "tags": []
          },
          "execution_count": 9
        }
      ]
    },
    {
      "cell_type": "markdown",
      "metadata": {
        "id": "nU4BjnePpWqO",
        "colab_type": "text"
      },
      "source": [
        "# Data preprocessing\n",
        "Now splitting the 'Scientific Name with Author' column into two - 'Scientific Name' and 'Author', assuming that the first two words are part of the 'Scientific Name'"
      ]
    },
    {
      "cell_type": "code",
      "metadata": {
        "id": "LXv3yF7drVW5",
        "colab_type": "code",
        "outputId": "5693bcab-ec22-488d-9064-f351c230a056",
        "colab": {
          "base_uri": "https://localhost:8080/",
          "height": 232
        }
      },
      "source": [
        " data['Scientific Name with Author']"
      ],
      "execution_count": 0,
      "outputs": [
        {
          "output_type": "execute_result",
          "data": {
            "text/plain": [
              "0                                 Anisacanthus Nees\n",
              "1             Anisacanthus thurberi (Torr.) A. Gray\n",
              "2                            Drejera thurberi Torr.\n",
              "3                   Carlowrightia arizonica A. Gray\n",
              "4        Carlowrightia linearifolia (Torr.) A. Gray\n",
              "                            ...                    \n",
              "16419                        Larrea mexicana Moric.\n",
              "16420                                    Peganum L.\n",
              "16421                            Peganum harmala L.\n",
              "16422                                   Tribulus L.\n",
              "16423                        Tribulus terrestris L.\n",
              "Name: Scientific Name with Author, Length: 16424, dtype: object"
            ]
          },
          "metadata": {
            "tags": []
          },
          "execution_count": 10
        }
      ]
    },
    {
      "cell_type": "code",
      "metadata": {
        "id": "aVXUUQ_tpVpb",
        "colab_type": "code",
        "outputId": "92a92d1f-bb9d-4e41-9bd3-55ea9ea67363",
        "colab": {
          "base_uri": "https://localhost:8080/",
          "height": 232
        }
      },
      "source": [
        "data_spl = data['Scientific Name with Author'].str.split()\n",
        "data_spl"
      ],
      "execution_count": 0,
      "outputs": [
        {
          "output_type": "execute_result",
          "data": {
            "text/plain": [
              "0                                    [Anisacanthus, Nees]\n",
              "1             [Anisacanthus, thurberi, (Torr.), A., Gray]\n",
              "2                              [Drejera, thurberi, Torr.]\n",
              "3                    [Carlowrightia, arizonica, A., Gray]\n",
              "4        [Carlowrightia, linearifolia, (Torr.), A., Gray]\n",
              "                               ...                       \n",
              "16419                          [Larrea, mexicana, Moric.]\n",
              "16420                                       [Peganum, L.]\n",
              "16421                              [Peganum, harmala, L.]\n",
              "16422                                      [Tribulus, L.]\n",
              "16423                          [Tribulus, terrestris, L.]\n",
              "Name: Scientific Name with Author, Length: 16424, dtype: object"
            ]
          },
          "metadata": {
            "tags": []
          },
          "execution_count": 11
        }
      ]
    },
    {
      "cell_type": "code",
      "metadata": {
        "id": "LbLZRPLfpROa",
        "colab_type": "code",
        "outputId": "20ba32fd-0685-4356-f1f1-11edd7d594be",
        "colab": {
          "base_uri": "https://localhost:8080/",
          "height": 232
        }
      },
      "source": [
        "data['Scientific Name'] = data_spl.str[0]+\" \"+data_spl.str[1]\n",
        "data['Scientific Name']"
      ],
      "execution_count": 0,
      "outputs": [
        {
          "output_type": "execute_result",
          "data": {
            "text/plain": [
              "0                 Anisacanthus Nees\n",
              "1             Anisacanthus thurberi\n",
              "2                  Drejera thurberi\n",
              "3           Carlowrightia arizonica\n",
              "4        Carlowrightia linearifolia\n",
              "                    ...            \n",
              "16419               Larrea mexicana\n",
              "16420                    Peganum L.\n",
              "16421               Peganum harmala\n",
              "16422                   Tribulus L.\n",
              "16423           Tribulus terrestris\n",
              "Name: Scientific Name, Length: 16424, dtype: object"
            ]
          },
          "metadata": {
            "tags": []
          },
          "execution_count": 12
        }
      ]
    },
    {
      "cell_type": "code",
      "metadata": {
        "id": "w8oRwwCh0dAz",
        "colab_type": "code",
        "outputId": "c5ad0b90-b24c-45fa-ad0a-08918906712c",
        "colab": {
          "base_uri": "https://localhost:8080/",
          "height": 232
        }
      },
      "source": [
        "data_spl.str[2:]\n"
      ],
      "execution_count": 0,
      "outputs": [
        {
          "output_type": "execute_result",
          "data": {
            "text/plain": [
              "0                         []\n",
              "1        [(Torr.), A., Gray]\n",
              "2                    [Torr.]\n",
              "3                 [A., Gray]\n",
              "4        [(Torr.), A., Gray]\n",
              "                ...         \n",
              "16419               [Moric.]\n",
              "16420                     []\n",
              "16421                   [L.]\n",
              "16422                     []\n",
              "16423                   [L.]\n",
              "Name: Scientific Name with Author, Length: 16424, dtype: object"
            ]
          },
          "metadata": {
            "tags": []
          },
          "execution_count": 13
        }
      ]
    },
    {
      "cell_type": "code",
      "metadata": {
        "id": "cWk68PELrMMZ",
        "colab_type": "code",
        "outputId": "5e0f2ae5-078a-4ce6-9916-3ac8dac803c1",
        "colab": {
          "base_uri": "https://localhost:8080/",
          "height": 232
        }
      },
      "source": [
        "data['Author'] = data_spl.str[2:].str.join(' ')\n",
        "data['Author']"
      ],
      "execution_count": 0,
      "outputs": [
        {
          "output_type": "execute_result",
          "data": {
            "text/plain": [
              "0                       \n",
              "1        (Torr.) A. Gray\n",
              "2                  Torr.\n",
              "3                A. Gray\n",
              "4        (Torr.) A. Gray\n",
              "              ...       \n",
              "16419             Moric.\n",
              "16420                   \n",
              "16421                 L.\n",
              "16422                   \n",
              "16423                 L.\n",
              "Name: Author, Length: 16424, dtype: object"
            ]
          },
          "metadata": {
            "tags": []
          },
          "execution_count": 14
        }
      ]
    },
    {
      "cell_type": "code",
      "metadata": {
        "id": "gON6qP3Zri_p",
        "colab_type": "code",
        "colab": {}
      },
      "source": [
        "data.drop('Scientific Name with Author',axis=1,inplace=True)"
      ],
      "execution_count": 0,
      "outputs": []
    },
    {
      "cell_type": "code",
      "metadata": {
        "id": "LExqIr2f3NpD",
        "colab_type": "code",
        "colab": {}
      },
      "source": [
        "data_copy = data"
      ],
      "execution_count": 0,
      "outputs": []
    },
    {
      "cell_type": "markdown",
      "metadata": {
        "id": "18_iIwu93Nad",
        "colab_type": "text"
      },
      "source": [
        ""
      ]
    },
    {
      "cell_type": "markdown",
      "metadata": {
        "id": "Sn23_546yk8i",
        "colab_type": "text"
      },
      "source": [
        "Now label encoding"
      ]
    },
    {
      "cell_type": "code",
      "metadata": {
        "id": "UPzyBV_6F39G",
        "colab_type": "code",
        "colab": {}
      },
      "source": [
        "data = data_copy"
      ],
      "execution_count": 0,
      "outputs": []
    },
    {
      "cell_type": "code",
      "metadata": {
        "id": "E2S_wNaOzIYA",
        "colab_type": "code",
        "outputId": "e9d1c4e5-2db3-47c9-adf1-441e84c2aabf",
        "colab": {
          "base_uri": "https://localhost:8080/",
          "height": 214
        }
      },
      "source": [
        "data.info()"
      ],
      "execution_count": 0,
      "outputs": [
        {
          "output_type": "stream",
          "text": [
            "<class 'pandas.core.frame.DataFrame'>\n",
            "RangeIndex: 16424 entries, 0 to 16423\n",
            "Data columns (total 6 columns):\n",
            "Symbol                  16424 non-null object\n",
            "Synonym Symbol          9595 non-null object\n",
            "National Common Name    6816 non-null object\n",
            "Family                  16424 non-null object\n",
            "Scientific Name         16424 non-null object\n",
            "Author                  16424 non-null object\n",
            "dtypes: object(6)\n",
            "memory usage: 770.0+ KB\n"
          ],
          "name": "stdout"
        }
      ]
    },
    {
      "cell_type": "markdown",
      "metadata": {
        "id": "qjkQsEOp3Xpy",
        "colab_type": "text"
      },
      "source": [
        "# Integer Encoding"
      ]
    },
    {
      "cell_type": "code",
      "metadata": {
        "id": "IwCMg8ItZ3hK",
        "colab_type": "code",
        "colab": {}
      },
      "source": [
        "x = list(data['Symbol'].unique())\n",
        "\n",
        "dict_ = {}\n",
        "for index, ele in enumerate(x):\n",
        "  dict_.update({ele:index})\n",
        "\n",
        "data['Symbol'] = data['Symbol'].map(dict_)"
      ],
      "execution_count": 0,
      "outputs": []
    },
    {
      "cell_type": "code",
      "metadata": {
        "id": "njRbJ_lYcfhq",
        "colab_type": "code",
        "colab": {}
      },
      "source": [
        "x = list(data['Synonym Symbol'].unique())\n",
        "del x[0]\n",
        "\n",
        "dict_ = {}\n",
        "for index, ele in enumerate(x):\n",
        "  dict_.update({ele:index})\n",
        "\n",
        "data['Synonym Symbol'] = data['Synonym Symbol'].map(dict_)"
      ],
      "execution_count": 0,
      "outputs": []
    },
    {
      "cell_type": "code",
      "metadata": {
        "id": "chG8eP-G8sYY",
        "colab_type": "code",
        "outputId": "914ce08e-bacf-4791-e363-44ef17229efd",
        "colab": {
          "base_uri": "https://localhost:8080/"
        }
      },
      "source": [
        "x = list(data['National Common Name'].unique())\n",
        "x[2]"
      ],
      "execution_count": 0,
      "outputs": [
        {
          "output_type": "execute_result",
          "data": {
            "text/plain": [
              "nan"
            ]
          },
          "metadata": {
            "tags": []
          },
          "execution_count": 21
        }
      ]
    },
    {
      "cell_type": "code",
      "metadata": {
        "id": "XP1jPmAVf07p",
        "colab_type": "code",
        "colab": {}
      },
      "source": [
        "x = list(data['National Common Name'].unique())\n",
        "del x[2]\n",
        "\n",
        "dict_ = {}\n",
        "for index, ele in enumerate(x):\n",
        "  dict_.update({ele:index})\n",
        "\n",
        "data['National Common Name'] = data['National Common Name'].map(dict_)"
      ],
      "execution_count": 0,
      "outputs": []
    },
    {
      "cell_type": "code",
      "metadata": {
        "id": "Vi22gvLJgL_K",
        "colab_type": "code",
        "colab": {}
      },
      "source": [
        "x = list(data['Family'].unique())\n",
        "\n",
        "dict_ = {}\n",
        "for index, ele in enumerate(x):\n",
        "  dict_.update({ele:index})\n",
        "\n",
        "data['Family'] = data['Family'].map(dict_)"
      ],
      "execution_count": 0,
      "outputs": []
    },
    {
      "cell_type": "code",
      "metadata": {
        "id": "Y_swOFUB-Cgp",
        "colab_type": "code",
        "colab": {}
      },
      "source": [
        "x = list(data['Author'].unique())\n",
        "ind = x.index('')\n"
      ],
      "execution_count": 0,
      "outputs": []
    },
    {
      "cell_type": "code",
      "metadata": {
        "id": "3AfoadE1gVcd",
        "colab_type": "code",
        "colab": {}
      },
      "source": [
        "x = list(data['Author'].unique())\n",
        "ind = x.index('')\n",
        "del x[ind]\n",
        "dict_ = {}\n",
        "for index, ele in enumerate(x):\n",
        "  dict_.update({ele:index})\n",
        "\n",
        "data['Author'] = data['Author'].map(dict_)"
      ],
      "execution_count": 0,
      "outputs": []
    },
    {
      "cell_type": "code",
      "metadata": {
        "id": "JCVxeKLMgeDi",
        "colab_type": "code",
        "colab": {}
      },
      "source": [
        "x = list(data['Scientific Name'].unique())\n",
        "\n",
        "dict_ = {}\n",
        "for index, ele in enumerate(x):\n",
        "  dict_.update({ele:index})\n",
        "\n",
        "data['Scientific Name'] = data['Scientific Name'].map(dict_)"
      ],
      "execution_count": 0,
      "outputs": []
    },
    {
      "cell_type": "code",
      "metadata": {
        "id": "cASjcJymgjNb",
        "colab_type": "code",
        "outputId": "23532b79-ba2b-4458-c61a-2295bb2b7cf3",
        "colab": {
          "base_uri": "https://localhost:8080/"
        }
      },
      "source": [
        "data.head()"
      ],
      "execution_count": 0,
      "outputs": [
        {
          "output_type": "execute_result",
          "data": {
            "text/html": [
              "<div>\n",
              "<style scoped>\n",
              "    .dataframe tbody tr th:only-of-type {\n",
              "        vertical-align: middle;\n",
              "    }\n",
              "\n",
              "    .dataframe tbody tr th {\n",
              "        vertical-align: top;\n",
              "    }\n",
              "\n",
              "    .dataframe thead th {\n",
              "        text-align: right;\n",
              "    }\n",
              "</style>\n",
              "<table border=\"1\" class=\"dataframe\">\n",
              "  <thead>\n",
              "    <tr style=\"text-align: right;\">\n",
              "      <th></th>\n",
              "      <th>Symbol</th>\n",
              "      <th>Synonym Symbol</th>\n",
              "      <th>National Common Name</th>\n",
              "      <th>Family</th>\n",
              "      <th>Scientific Name</th>\n",
              "      <th>Author</th>\n",
              "    </tr>\n",
              "  </thead>\n",
              "  <tbody>\n",
              "    <tr>\n",
              "      <th>0</th>\n",
              "      <td>0</td>\n",
              "      <td>NaN</td>\n",
              "      <td>0.0</td>\n",
              "      <td>0</td>\n",
              "      <td>0</td>\n",
              "      <td>NaN</td>\n",
              "    </tr>\n",
              "    <tr>\n",
              "      <th>1</th>\n",
              "      <td>1</td>\n",
              "      <td>NaN</td>\n",
              "      <td>1.0</td>\n",
              "      <td>0</td>\n",
              "      <td>1</td>\n",
              "      <td>0.0</td>\n",
              "    </tr>\n",
              "    <tr>\n",
              "      <th>2</th>\n",
              "      <td>1</td>\n",
              "      <td>0.0</td>\n",
              "      <td>NaN</td>\n",
              "      <td>0</td>\n",
              "      <td>2</td>\n",
              "      <td>1.0</td>\n",
              "    </tr>\n",
              "    <tr>\n",
              "      <th>3</th>\n",
              "      <td>2</td>\n",
              "      <td>NaN</td>\n",
              "      <td>2.0</td>\n",
              "      <td>0</td>\n",
              "      <td>3</td>\n",
              "      <td>2.0</td>\n",
              "    </tr>\n",
              "    <tr>\n",
              "      <th>4</th>\n",
              "      <td>3</td>\n",
              "      <td>NaN</td>\n",
              "      <td>3.0</td>\n",
              "      <td>0</td>\n",
              "      <td>4</td>\n",
              "      <td>0.0</td>\n",
              "    </tr>\n",
              "  </tbody>\n",
              "</table>\n",
              "</div>"
            ],
            "text/plain": [
              "   Symbol  Synonym Symbol  ...  Scientific Name  Author\n",
              "0       0             NaN  ...                0     NaN\n",
              "1       1             NaN  ...                1     0.0\n",
              "2       1             0.0  ...                2     1.0\n",
              "3       2             NaN  ...                3     2.0\n",
              "4       3             NaN  ...                4     0.0\n",
              "\n",
              "[5 rows x 6 columns]"
            ]
          },
          "metadata": {
            "tags": []
          },
          "execution_count": 27
        }
      ]
    },
    {
      "cell_type": "markdown",
      "metadata": {
        "id": "fW0PfyFx7DD4",
        "colab_type": "text"
      },
      "source": [
        "https://towardsdatascience.com/6-different-ways-to-compensate-for-missing-values-data-imputation-with-examples-6022d9ca0779"
      ]
    },
    {
      "cell_type": "code",
      "metadata": {
        "id": "rVar2unkCeRl",
        "colab_type": "code",
        "outputId": "f7bb01fc-01af-4be4-f18e-c267fb96f8e9",
        "colab": {
          "base_uri": "https://localhost:8080/"
        }
      },
      "source": [
        "data.info()"
      ],
      "execution_count": 0,
      "outputs": [
        {
          "output_type": "stream",
          "text": [
            "<class 'pandas.core.frame.DataFrame'>\n",
            "RangeIndex: 16424 entries, 0 to 16423\n",
            "Data columns (total 6 columns):\n",
            "Symbol                  16424 non-null int64\n",
            "Synonym Symbol          9595 non-null float64\n",
            "National Common Name    6816 non-null float64\n",
            "Family                  16424 non-null int64\n",
            "Scientific Name         16424 non-null int64\n",
            "Author                  15556 non-null float64\n",
            "dtypes: float64(3), int64(3)\n",
            "memory usage: 770.0 KB\n"
          ],
          "name": "stdout"
        }
      ]
    },
    {
      "cell_type": "markdown",
      "metadata": {
        "id": "QtJFKQpPB2EU",
        "colab_type": "text"
      },
      "source": [
        "Now let us analyse the proportion of missing values in each category:"
      ]
    },
    {
      "cell_type": "code",
      "metadata": {
        "id": "QzeANr4iB57Y",
        "colab_type": "code",
        "outputId": "07f13733-2c97-4d37-ba37-823bdad4fc22",
        "colab": {
          "base_uri": "https://localhost:8080/"
        }
      },
      "source": [
        "for each in data.columns:\n",
        "  print(each, data[each].isnull().sum())"
      ],
      "execution_count": 0,
      "outputs": [
        {
          "output_type": "stream",
          "text": [
            "Symbol 0\n",
            "Synonym Symbol 6829\n",
            "National Common Name 9608\n",
            "Family 0\n",
            "Scientific Name 0\n",
            "Author 868\n"
          ],
          "name": "stdout"
        }
      ]
    },
    {
      "cell_type": "code",
      "metadata": {
        "id": "xnanNIcqIccS",
        "colab_type": "code",
        "colab": {}
      },
      "source": [
        "data_copy_2 = data"
      ],
      "execution_count": 0,
      "outputs": []
    },
    {
      "cell_type": "markdown",
      "metadata": {
        "id": "X2Xrwhwfz78n",
        "colab_type": "text"
      },
      "source": [
        "# Data Imputation"
      ]
    },
    {
      "cell_type": "code",
      "metadata": {
        "id": "57ysefZfnxWy",
        "colab_type": "code",
        "outputId": "1bea5684-8bf2-464f-ead5-11fd450b4d3f",
        "colab": {
          "base_uri": "https://localhost:8080/"
        }
      },
      "source": [
        "data.columns"
      ],
      "execution_count": 0,
      "outputs": [
        {
          "output_type": "execute_result",
          "data": {
            "text/plain": [
              "Index(['Symbol', 'Synonym Symbol', 'National Common Name', 'Family',\n",
              "       'Scientific Name', 'Author'],\n",
              "      dtype='object')"
            ]
          },
          "metadata": {
            "tags": []
          },
          "execution_count": 31
        }
      ]
    },
    {
      "cell_type": "markdown",
      "metadata": {
        "id": "mhUFyNV45Lyb",
        "colab_type": "text"
      },
      "source": [
        "Reordering the columns such that the target variable is in the end:"
      ]
    },
    {
      "cell_type": "code",
      "metadata": {
        "id": "OZLgxOka44DZ",
        "colab_type": "code",
        "outputId": "e49df88c-211b-42f4-9d0c-2d1376c6b0aa",
        "colab": {
          "base_uri": "https://localhost:8080/"
        }
      },
      "source": [
        "data_columns =['Symbol', 'Synonym Symbol', 'National Common Name', \n",
        "       'Scientific Name', 'Author', 'Family']\n",
        "data = data[data_columns]\n",
        "data.head()"
      ],
      "execution_count": 0,
      "outputs": [
        {
          "output_type": "execute_result",
          "data": {
            "text/html": [
              "<div>\n",
              "<style scoped>\n",
              "    .dataframe tbody tr th:only-of-type {\n",
              "        vertical-align: middle;\n",
              "    }\n",
              "\n",
              "    .dataframe tbody tr th {\n",
              "        vertical-align: top;\n",
              "    }\n",
              "\n",
              "    .dataframe thead th {\n",
              "        text-align: right;\n",
              "    }\n",
              "</style>\n",
              "<table border=\"1\" class=\"dataframe\">\n",
              "  <thead>\n",
              "    <tr style=\"text-align: right;\">\n",
              "      <th></th>\n",
              "      <th>Symbol</th>\n",
              "      <th>Synonym Symbol</th>\n",
              "      <th>National Common Name</th>\n",
              "      <th>Scientific Name</th>\n",
              "      <th>Author</th>\n",
              "      <th>Family</th>\n",
              "    </tr>\n",
              "  </thead>\n",
              "  <tbody>\n",
              "    <tr>\n",
              "      <th>0</th>\n",
              "      <td>0</td>\n",
              "      <td>NaN</td>\n",
              "      <td>0.0</td>\n",
              "      <td>0</td>\n",
              "      <td>NaN</td>\n",
              "      <td>0</td>\n",
              "    </tr>\n",
              "    <tr>\n",
              "      <th>1</th>\n",
              "      <td>1</td>\n",
              "      <td>NaN</td>\n",
              "      <td>1.0</td>\n",
              "      <td>1</td>\n",
              "      <td>0.0</td>\n",
              "      <td>0</td>\n",
              "    </tr>\n",
              "    <tr>\n",
              "      <th>2</th>\n",
              "      <td>1</td>\n",
              "      <td>0.0</td>\n",
              "      <td>NaN</td>\n",
              "      <td>2</td>\n",
              "      <td>1.0</td>\n",
              "      <td>0</td>\n",
              "    </tr>\n",
              "    <tr>\n",
              "      <th>3</th>\n",
              "      <td>2</td>\n",
              "      <td>NaN</td>\n",
              "      <td>2.0</td>\n",
              "      <td>3</td>\n",
              "      <td>2.0</td>\n",
              "      <td>0</td>\n",
              "    </tr>\n",
              "    <tr>\n",
              "      <th>4</th>\n",
              "      <td>3</td>\n",
              "      <td>NaN</td>\n",
              "      <td>3.0</td>\n",
              "      <td>4</td>\n",
              "      <td>0.0</td>\n",
              "      <td>0</td>\n",
              "    </tr>\n",
              "  </tbody>\n",
              "</table>\n",
              "</div>"
            ],
            "text/plain": [
              "   Symbol  Synonym Symbol  ...  Author  Family\n",
              "0       0             NaN  ...     NaN       0\n",
              "1       1             NaN  ...     0.0       0\n",
              "2       1             0.0  ...     1.0       0\n",
              "3       2             NaN  ...     2.0       0\n",
              "4       3             NaN  ...     0.0       0\n",
              "\n",
              "[5 rows x 6 columns]"
            ]
          },
          "metadata": {
            "tags": []
          },
          "execution_count": 32
        }
      ]
    },
    {
      "cell_type": "markdown",
      "metadata": {
        "id": "U4J6yLqlhGIs",
        "colab_type": "text"
      },
      "source": [
        "Now to impute the data to fill in missing values, in this case it is not appropriate to go for techniques like mean, medium substitution since we are dealing with categorical values. \n",
        "Thereby, we can opt for KNN imputation."
      ]
    },
    {
      "cell_type": "code",
      "metadata": {
        "id": "xH3MLyNQIha0",
        "colab_type": "code",
        "outputId": "5d4bf4ef-e837-4af1-88b6-6b40a69a6881",
        "colab": {
          "base_uri": "https://localhost:8080/"
        }
      },
      "source": [
        "imputer = KNNImputer(n_neighbors=5)\n",
        "imputed_data = pd.DataFrame(imputer.fit_transform(data))\n",
        "round(imputed_data)\n",
        "\n",
        "imputed_data.columns = data.columns\n",
        "imputed_data.index = data.index\n",
        "\n",
        "imputed_data.head()"
      ],
      "execution_count": 0,
      "outputs": [
        {
          "output_type": "execute_result",
          "data": {
            "text/html": [
              "<div>\n",
              "<style scoped>\n",
              "    .dataframe tbody tr th:only-of-type {\n",
              "        vertical-align: middle;\n",
              "    }\n",
              "\n",
              "    .dataframe tbody tr th {\n",
              "        vertical-align: top;\n",
              "    }\n",
              "\n",
              "    .dataframe thead th {\n",
              "        text-align: right;\n",
              "    }\n",
              "</style>\n",
              "<table border=\"1\" class=\"dataframe\">\n",
              "  <thead>\n",
              "    <tr style=\"text-align: right;\">\n",
              "      <th></th>\n",
              "      <th>Symbol</th>\n",
              "      <th>Synonym Symbol</th>\n",
              "      <th>National Common Name</th>\n",
              "      <th>Scientific Name</th>\n",
              "      <th>Author</th>\n",
              "      <th>Family</th>\n",
              "    </tr>\n",
              "  </thead>\n",
              "  <tbody>\n",
              "    <tr>\n",
              "      <th>0</th>\n",
              "      <td>0.0</td>\n",
              "      <td>2.0</td>\n",
              "      <td>0.0</td>\n",
              "      <td>0.0</td>\n",
              "      <td>0.8</td>\n",
              "      <td>0.0</td>\n",
              "    </tr>\n",
              "    <tr>\n",
              "      <th>1</th>\n",
              "      <td>1.0</td>\n",
              "      <td>2.0</td>\n",
              "      <td>1.0</td>\n",
              "      <td>1.0</td>\n",
              "      <td>0.0</td>\n",
              "      <td>0.0</td>\n",
              "    </tr>\n",
              "    <tr>\n",
              "      <th>2</th>\n",
              "      <td>1.0</td>\n",
              "      <td>0.0</td>\n",
              "      <td>2.0</td>\n",
              "      <td>2.0</td>\n",
              "      <td>1.0</td>\n",
              "      <td>0.0</td>\n",
              "    </tr>\n",
              "    <tr>\n",
              "      <th>3</th>\n",
              "      <td>2.0</td>\n",
              "      <td>2.0</td>\n",
              "      <td>2.0</td>\n",
              "      <td>3.0</td>\n",
              "      <td>2.0</td>\n",
              "      <td>0.0</td>\n",
              "    </tr>\n",
              "    <tr>\n",
              "      <th>4</th>\n",
              "      <td>3.0</td>\n",
              "      <td>2.4</td>\n",
              "      <td>3.0</td>\n",
              "      <td>4.0</td>\n",
              "      <td>0.0</td>\n",
              "      <td>0.0</td>\n",
              "    </tr>\n",
              "  </tbody>\n",
              "</table>\n",
              "</div>"
            ],
            "text/plain": [
              "   Symbol  Synonym Symbol  ...  Author  Family\n",
              "0     0.0             2.0  ...     0.8     0.0\n",
              "1     1.0             2.0  ...     0.0     0.0\n",
              "2     1.0             0.0  ...     1.0     0.0\n",
              "3     2.0             2.0  ...     2.0     0.0\n",
              "4     3.0             2.4  ...     0.0     0.0\n",
              "\n",
              "[5 rows x 6 columns]"
            ]
          },
          "metadata": {
            "tags": []
          },
          "execution_count": 33
        }
      ]
    },
    {
      "cell_type": "markdown",
      "metadata": {
        "id": "UM0Ps81LppFE",
        "colab_type": "text"
      },
      "source": [
        "KNN Imputation takes the mean of the nearest neighbours, hence as seen in the first and last rows, there are decimal values.\n",
        "Hence we know round off all numbers to the nearest integer"
      ]
    },
    {
      "cell_type": "code",
      "metadata": {
        "id": "qSEGGR9GEOqE",
        "colab_type": "code",
        "colab": {}
      },
      "source": [
        "def roundoff_dataset(data):\n",
        "\n",
        "  col = ['Symbol', 'Synonym Symbol', 'National Common Name', 'Author','Scientific Name', 'Family']\n",
        "\n",
        "  for index,value in enumerate(col):\n",
        "    list_ = []\n",
        "    for j in data[value]:\n",
        "      list_.append(round(j))\n",
        "    \n",
        "    x = {value:list_}\n",
        "    if index == 0:\n",
        "      df = pd.DataFrame(x)\n",
        "    else:\n",
        "      df[value] = pd.DataFrame(x)\n",
        "\n",
        "  return df"
      ],
      "execution_count": 0,
      "outputs": []
    },
    {
      "cell_type": "code",
      "metadata": {
        "id": "gDYYmb-3EOl9",
        "colab_type": "code",
        "colab": {}
      },
      "source": [
        "imputed_data = roundoff_dataset(imputed_data)"
      ],
      "execution_count": 0,
      "outputs": []
    },
    {
      "cell_type": "markdown",
      "metadata": {
        "id": "J1tW5gvzhyoR",
        "colab_type": "text"
      },
      "source": [
        "Now we observe that all missing values have been filled."
      ]
    },
    {
      "cell_type": "code",
      "metadata": {
        "id": "brx1sONOhoor",
        "colab_type": "code",
        "outputId": "64ce6e1d-bb66-4d94-8b27-dda903395c89",
        "colab": {
          "base_uri": "https://localhost:8080/"
        }
      },
      "source": [
        "imputed_data.isnull().sum()"
      ],
      "execution_count": 0,
      "outputs": [
        {
          "output_type": "execute_result",
          "data": {
            "text/plain": [
              "Symbol                  0\n",
              "Synonym Symbol          0\n",
              "National Common Name    0\n",
              "Author                  0\n",
              "Scientific Name         0\n",
              "Family                  0\n",
              "dtype: int64"
            ]
          },
          "metadata": {
            "tags": []
          },
          "execution_count": 36
        }
      ]
    },
    {
      "cell_type": "markdown",
      "metadata": {
        "id": "qfcndMUNzuhr",
        "colab_type": "text"
      },
      "source": [
        "# Feature Selection\n"
      ]
    },
    {
      "cell_type": "markdown",
      "metadata": {
        "id": "i9TgOR4Lsccc",
        "colab_type": "text"
      },
      "source": [
        "---\n",
        "Now we can move on to finding the correlation between features. We cannot use the 'usual' method (Pearson's) for computing this correlation here since we are dealing with categorical values.\n",
        "* One option we have is Cramer's V method, where the output ranges from 0 to 1 [0,1]. However, this is symmetric. Say f represents the Cramer's V function, then, f(x,y) = f(y,x).\n",
        "This may not be an accurate description of the data since one feature may depend on another but the reverse need not be true.\n",
        "* Thus, a suitable alternative is Theil's U - also called the uncertainty coefficient. Unlike Cramer's V, it is asymmetric, ie, U(x,y) ≠ U(y,x). It looks at how many possible states 'y' has, given the value of 'x' - and the frequency of occurrence. \n",
        "\n",
        "\n",
        "\n"
      ]
    },
    {
      "cell_type": "code",
      "metadata": {
        "id": "LsHgTGBwYGtv",
        "colab_type": "code",
        "colab": {}
      },
      "source": [
        "REPLACE = 'replace'\n",
        "DROP = 'drop'\n",
        "DROP_SAMPLES = 'drop_samples'\n",
        "DROP_FEATURES = 'drop_features'\n",
        "SKIP = 'skip'\n",
        "DEFAULT_REPLACE_VALUE = 0.0"
      ],
      "execution_count": 0,
      "outputs": []
    },
    {
      "cell_type": "code",
      "metadata": {
        "id": "kQoncUhtYRJP",
        "colab_type": "code",
        "colab": {}
      },
      "source": [
        "def conditional_entropy(x,y,nan_strategy=REPLACE,nan_replace_value=DEFAULT_REPLACE_VALUE):\n",
        "    \"\"\"\n",
        "    Calculates the conditional entropy of x given y: S(x|y)\n",
        "    Wikipedia: https://en.wikipedia.org/wiki/Conditional_entropy\n",
        "    **Returns:** float\n",
        "    Parameters\n",
        "    ----------\n",
        "    x : list / NumPy ndarray / Pandas Series\n",
        "        A sequence of measurements\n",
        "    y : list / NumPy ndarray / Pandas Series\n",
        "        A sequence of measurements\n",
        "    nan_strategy : string, default = 'replace'\n",
        "        How to handle missing values: can be either 'drop' to remove samples\n",
        "        with missing values, or 'replace' to replace all missing values with\n",
        "        the nan_replace_value. Missing values are None and np.nan.\n",
        "    nan_replace_value : any, default = 0.0\n",
        "        The value used to replace missing values with. Only applicable when\n",
        "        nan_strategy is set to 'replace'.\n",
        "    \"\"\"\n",
        "    if nan_strategy == REPLACE:\n",
        "        x, y = replace_nan_with_value(x, y, nan_replace_value)\n",
        "    elif nan_strategy == DROP:\n",
        "        x, y = remove_incomplete_samples(x, y)\n",
        "    y_counter = Counter(y)\n",
        "    xy_counter = Counter(list(zip(x, y)))\n",
        "    total_occurrences = sum(y_counter.values())\n",
        "    entropy = 0.0\n",
        "    for xy in xy_counter.keys():\n",
        "        p_xy = xy_counter[xy] / total_occurrences\n",
        "        p_y = y_counter[xy[1]] / total_occurrences\n",
        "        entropy += p_xy * math.log(p_y / p_xy)\n",
        "    return entropy"
      ],
      "execution_count": 0,
      "outputs": []
    },
    {
      "cell_type": "code",
      "metadata": {
        "id": "63E9DFK0YeAr",
        "colab_type": "code",
        "colab": {}
      },
      "source": [
        "def theils_u(x, y, nan_strategy=REPLACE, nan_replace_value=DEFAULT_REPLACE_VALUE):\n",
        "    \"\"\"\n",
        "    Calculates Theil's U statistic (Uncertainty coefficient) for categorical-\n",
        "    categorical association. This is the uncertainty of x given y: value is\n",
        "    on the range of [0,1] - where 0 means y provides no information about\n",
        "    x, and 1 means y provides full information about x.\n",
        "    This is an asymmetric coefficient: U(x,y) != U(y,x)\n",
        "    Wikipedia: https://en.wikipedia.org/wiki/Uncertainty_coefficient\n",
        "    **Returns:** float in the range of [0,1]\n",
        "    Parameters\n",
        "    ----------\n",
        "    x : list / NumPy ndarray / Pandas Series\n",
        "        A sequence of categorical measurements\n",
        "    y : list / NumPy ndarray / Pandas Series\n",
        "        A sequence of categorical measurements\n",
        "    nan_strategy : string, default = 'replace'\n",
        "        How to handle missing values: can be either 'drop' to remove samples\n",
        "        with missing values, or 'replace' to replace all missing values with\n",
        "        the nan_replace_value. Missing values are None and np.nan.\n",
        "    nan_replace_value : any, default = 0.0\n",
        "        The value used to replace missing values with. Only applicable when\n",
        "        nan_strategy is set to 'replace'.\n",
        "    \"\"\"\n",
        "    if nan_strategy == REPLACE:\n",
        "        x, y = replace_nan_with_value(x, y, nan_replace_value)\n",
        "    elif nan_strategy == DROP:\n",
        "        x, y = remove_incomplete_samples(x, y)\n",
        "    s_xy = conditional_entropy(x, y)\n",
        "    x_counter = Counter(x)\n",
        "    total_occurrences = sum(x_counter.values())\n",
        "    p_x = list(map(lambda n: n / total_occurrences, x_counter.values()))\n",
        "    s_x = ss.entropy(p_x)\n",
        "    if s_x == 0:\n",
        "        return 1\n",
        "    else:\n",
        "        return (s_x - s_xy) / s_x"
      ],
      "execution_count": 0,
      "outputs": []
    },
    {
      "cell_type": "code",
      "metadata": {
        "id": "4vhgxH1MYpWq",
        "colab_type": "code",
        "colab": {}
      },
      "source": [
        "def replace_nan_with_value(x, y, value):\n",
        "    x = [v if v == v and v is not None else value for v in x]  # NaN != NaN\n",
        "    y = [v if v == v and v is not None else value for v in y]\n",
        "    return x, y"
      ],
      "execution_count": 0,
      "outputs": []
    },
    {
      "cell_type": "code",
      "metadata": {
        "id": "JpIXb1kRocox",
        "colab_type": "code",
        "outputId": "4d4501f6-e0b3-4346-db9a-2c0204193075",
        "colab": {
          "base_uri": "https://localhost:8080/"
        }
      },
      "source": [
        "list_2 = []\n",
        "matrix_2 = []\n",
        "\n",
        "for i in imputed_data.columns:\n",
        "  for j in imputed_data.columns:\n",
        "\n",
        "    a = imputed_data[i]\n",
        "    b = imputed_data[j]\n",
        "\n",
        "    result_2 = theils_u(a,b)\n",
        "\n",
        "    list_2.append(result_2)\n",
        "  \n",
        "matrix_2.append(list_2)\n",
        "\n",
        "theils_u_matrix_2 = np.reshape(matrix_2[0], (6,6))\n",
        "sns.heatmap(theils_u_matrix_2, xticklabels=imputed_data.columns, yticklabels=imputed_data.columns, annot=True)"
      ],
      "execution_count": 0,
      "outputs": [
        {
          "output_type": "execute_result",
          "data": {
            "text/plain": [
              "<matplotlib.axes._subplots.AxesSubplot at 0x7f053db71940>"
            ]
          },
          "metadata": {
            "tags": []
          },
          "execution_count": 41
        },
        {
          "output_type": "display_data",
          "data": {
            "image/png": "[encoded data removed]",
            "text/plain": [
              "<Figure size 432x288 with 2 Axes>"
            ]
          },
          "metadata": {
            "tags": []
          }
        }
      ]
    },
    {
      "cell_type": "markdown",
      "metadata": {
        "id": "ky0O2HaH0j2X",
        "colab_type": "text"
      },
      "source": [
        "Strongly correlated features are more linearly dependent, and hence have similar effect on the target variable. Hence we can retain one while dropping the other. For this we can choose the threshold to be 0.9 ."
      ]
    },
    {
      "cell_type": "code",
      "metadata": {
        "id": "Txqln1Is4RgI",
        "colab_type": "code",
        "colab": {}
      },
      "source": [
        "columns = np.full((theils_u_matrix_2.shape[0],), True, dtype=bool)\n",
        "for i in range(theils_u_matrix_2.shape[0]):\n",
        "    for j in range(i+1, theils_u_matrix_2.shape[0]):\n",
        "        if theils_u_matrix_2[i,j] >= 0.9:\n",
        "            if columns[j]:\n",
        "                columns[j] = False\n",
        "selected_columns = imputed_data.columns[columns]"
      ],
      "execution_count": 0,
      "outputs": []
    },
    {
      "cell_type": "code",
      "metadata": {
        "id": "bwbnKqzrpAYh",
        "colab_type": "code",
        "outputId": "b1472e17-1b07-424f-c88b-8550dc8f45f9",
        "colab": {
          "base_uri": "https://localhost:8080/"
        }
      },
      "source": [
        "selected_columns"
      ],
      "execution_count": 0,
      "outputs": [
        {
          "output_type": "execute_result",
          "data": {
            "text/plain": [
              "Index(['Symbol', 'National Common Name', 'Author', 'Family'], dtype='object')"
            ]
          },
          "metadata": {
            "tags": []
          },
          "execution_count": 43
        }
      ]
    },
    {
      "cell_type": "code",
      "metadata": {
        "id": "E4LewVoKoxQF",
        "colab_type": "code",
        "outputId": "88dff60a-d350-4edd-bc61-d3b09d39fe0d",
        "colab": {
          "base_uri": "https://localhost:8080/"
        }
      },
      "source": [
        "data_fsel = imputed_data[selected_columns]\n",
        "selected_columns"
      ],
      "execution_count": 0,
      "outputs": [
        {
          "output_type": "execute_result",
          "data": {
            "text/plain": [
              "Index(['Symbol', 'National Common Name', 'Author', 'Family'], dtype='object')"
            ]
          },
          "metadata": {
            "tags": []
          },
          "execution_count": 44
        }
      ]
    },
    {
      "cell_type": "markdown",
      "metadata": {
        "id": "aDTGYb4y4n0k",
        "colab_type": "text"
      },
      "source": [
        "Now we save this data in *plants_data.csv*"
      ]
    },
    {
      "cell_type": "code",
      "metadata": {
        "id": "59aPhQea4l4N",
        "colab_type": "code",
        "colab": {}
      },
      "source": [
        "data_fsel.to_csv('plants_data.csv', index=False)"
      ],
      "execution_count": 0,
      "outputs": []
    },
    {
      "cell_type": "markdown",
      "metadata": {
        "id": "D8I4E-OcwqtC",
        "colab_type": "text"
      },
      "source": [
        "# Data Visualisation\n",
        "It often helps to visually represent the data in the form of plots and charts to gain more understanding about the dataset in hand. "
      ]
    },
    {
      "cell_type": "code",
      "metadata": {
        "id": "TT8HDJOwyUFg",
        "colab_type": "code",
        "outputId": "cf90c9fd-80f5-4f01-c928-9fc8f9927e1e",
        "colab": {
          "base_uri": "https://localhost:8080/"
        }
      },
      "source": [
        "sns.countplot(x='Symbol', hue='Family'  , data=data_fsel)"
      ],
      "execution_count": 0,
      "outputs": [
        {
          "output_type": "execute_result",
          "data": {
            "text/plain": [
              "<matplotlib.axes._subplots.AxesSubplot at 0x7f0525dddac8>"
            ]
          },
          "metadata": {
            "tags": []
          },
          "execution_count": 46
        }
      ]
    },
    {
      "cell_type": "code",
      "metadata": {
        "id": "pDMqvgfC2HaA",
        "colab_type": "code",
        "colab": {}
      },
      "source": [
        ""
      ],
      "execution_count": 0,
      "outputs": []
    }
  ]
}