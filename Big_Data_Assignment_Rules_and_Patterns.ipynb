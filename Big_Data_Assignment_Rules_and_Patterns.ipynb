{
  "nbformat": 4,
  "nbformat_minor": 0,
  "metadata": {
    "colab": {
      "name": "Big Data Assignment - Rules and Patterns",
      "provenance": [],
      "authorship_tag": "ABX9TyMClidSQ0cuZ57WUi/MGuxa",
      "include_colab_link": true
    },
    "kernelspec": {
      "name": "python3",
      "display_name": "Python 3"
    }
  },
  "cells": [
    {
      "cell_type": "markdown",
      "metadata": {
        "id": "view-in-github",
        "colab_type": "text"
      },
      "source": [
        "<a href=\"https://colab.research.google.com/github/harini9804/big-data-assignment/blob/master/Big_Data_Assignment_Rules_and_Patterns.ipynb\" target=\"_parent\"><img src=\"https://colab.research.google.com/assets/colab-badge.svg\" alt=\"Open In Colab\"/></a>"
      ]
    },
    {
      "cell_type": "markdown",
      "metadata": {
        "id": "JxAwo2kpg3Rj",
        "colab_type": "text"
      },
      "source": [
        "#Rules and Patterns:\n",
        "\n",
        "Using the plants dataset processed in Part A, in this notebook we shall implement Apriori algorithm. Further, we shall validate the \"interesting-ness\" of the rules and petterns generated using various measures."
      ]
    },
    {
      "cell_type": "code",
      "metadata": {
        "id": "CLPE56RGfRvl",
        "colab_type": "code",
        "outputId": "f3f92608-6423-4be3-fea7-ba4e8d94c8db",
        "colab": {
          "base_uri": "https://localhost:8080/",
          "height": 198
        }
      },
      "source": [
        "import pandas as pd\n",
        "import numpy as np\n",
        "!pip install apyori\n",
        "from apyori import apriori\n"
      ],
      "execution_count": 0,
      "outputs": [
        {
          "output_type": "stream",
          "text": [
            "Collecting apyori\n",
            "  Downloading https://files.pythonhosted.org/packages/5e/62/5ffde5c473ea4b033490617ec5caa80d59804875ad3c3c57c0976533a21a/apyori-1.1.2.tar.gz\n",
            "Building wheels for collected packages: apyori\n",
            "  Building wheel for apyori (setup.py) ... \u001b[?25l\u001b[?25hdone\n",
            "  Created wheel for apyori: filename=apyori-1.1.2-cp36-none-any.whl size=5975 sha256=aec14b66a68359befbfda9f3684a934935751b985e738feacce0a15a3d0a8edb\n",
            "  Stored in directory: /root/.cache/pip/wheels/5d/92/bb/474bbadbc8c0062b9eb168f69982a0443263f8ab1711a8cad0\n",
            "Successfully built apyori\n",
            "Installing collected packages: apyori\n",
            "Successfully installed apyori-1.1.2\n"
          ],
          "name": "stdout"
        }
      ]
    },
    {
      "cell_type": "code",
      "metadata": {
        "id": "8V4e6EmjgLzG",
        "colab_type": "code",
        "outputId": "30225ff8-c2a4-49c4-fb2f-29e9b527c140",
        "colab": {
          "base_uri": "https://localhost:8080/",
          "height": 198
        }
      },
      "source": [
        "dataset = pd.read_csv('/content/plants_data.csv')\n",
        "dataset.head()"
      ],
      "execution_count": 0,
      "outputs": [
        {
          "output_type": "execute_result",
          "data": {
            "text/html": [
              "<div>\n",
              "<style scoped>\n",
              "    .dataframe tbody tr th:only-of-type {\n",
              "        vertical-align: middle;\n",
              "    }\n",
              "\n",
              "    .dataframe tbody tr th {\n",
              "        vertical-align: top;\n",
              "    }\n",
              "\n",
              "    .dataframe thead th {\n",
              "        text-align: right;\n",
              "    }\n",
              "</style>\n",
              "<table border=\"1\" class=\"dataframe\">\n",
              "  <thead>\n",
              "    <tr style=\"text-align: right;\">\n",
              "      <th></th>\n",
              "      <th>Symbol</th>\n",
              "      <th>National Common Name</th>\n",
              "      <th>Author</th>\n",
              "      <th>Family</th>\n",
              "    </tr>\n",
              "  </thead>\n",
              "  <tbody>\n",
              "    <tr>\n",
              "      <th>0</th>\n",
              "      <td>0</td>\n",
              "      <td>0</td>\n",
              "      <td>1</td>\n",
              "      <td>0</td>\n",
              "    </tr>\n",
              "    <tr>\n",
              "      <th>1</th>\n",
              "      <td>1</td>\n",
              "      <td>1</td>\n",
              "      <td>0</td>\n",
              "      <td>0</td>\n",
              "    </tr>\n",
              "    <tr>\n",
              "      <th>2</th>\n",
              "      <td>1</td>\n",
              "      <td>2</td>\n",
              "      <td>1</td>\n",
              "      <td>0</td>\n",
              "    </tr>\n",
              "    <tr>\n",
              "      <th>3</th>\n",
              "      <td>2</td>\n",
              "      <td>2</td>\n",
              "      <td>2</td>\n",
              "      <td>0</td>\n",
              "    </tr>\n",
              "    <tr>\n",
              "      <th>4</th>\n",
              "      <td>3</td>\n",
              "      <td>3</td>\n",
              "      <td>0</td>\n",
              "      <td>0</td>\n",
              "    </tr>\n",
              "  </tbody>\n",
              "</table>\n",
              "</div>"
            ],
            "text/plain": [
              "   Symbol  National Common Name  Author  Family\n",
              "0       0                     0       1       0\n",
              "1       1                     1       0       0\n",
              "2       1                     2       1       0\n",
              "3       2                     2       2       0\n",
              "4       3                     3       0       0"
            ]
          },
          "metadata": {
            "tags": []
          },
          "execution_count": 2
        }
      ]
    },
    {
      "cell_type": "code",
      "metadata": {
        "id": "6rNeD_lAgak6",
        "colab_type": "code",
        "colab": {}
      },
      "source": [
        "# Check for the null values in the dataset and if present, remove them.\n",
        "transactions = []\n",
        "for index, data in dataset.iterrows():\n",
        "    transaction = pd.Series.tolist(data[~pd.isnull(data)])\n",
        "    transactions.append(set(transaction))"
      ],
      "execution_count": 0,
      "outputs": []
    },
    {
      "cell_type": "code",
      "metadata": {
        "id": "IHj7HWkEgfz4",
        "colab_type": "code",
        "outputId": "5c9085fa-ec27-4940-88d3-d5212af161de",
        "colab": {
          "base_uri": "https://localhost:8080/",
          "height": 322
        }
      },
      "source": [
        "_association_rules = apriori(transactions, min_support=0.0025, min_confidence=0.7, min_lift=0, min_length=2)\n",
        "\n",
        "association_rules = []\n",
        "\n",
        "# Print the association rule\n",
        "print(\"Association Rules: Min Support = 0.25%, Min Confidence = 70%\", end='\\n\\n')\n",
        "for association_rule in _association_rules:\n",
        "    \n",
        "    itemset = set([item for item in association_rule[0]])\n",
        "    support = association_rule[1]\n",
        "    \n",
        "    precedent = set([item for item in association_rule[2][0][0]])\n",
        "    antecedent = set([item for item in association_rule[2][0][1]])\n",
        "    \n",
        "    confidence = association_rule[2][0][2]\n",
        "    lift = association_rule[2][0][3]\n",
        "    \n",
        "    association_rules.append((precedent, antecedent))\n",
        "    \n",
        "    print(\"{} => {}\".format(precedent, antecedent))\n",
        "    print(\"Support = {}, Confidence = {}, Lift = {}\".format(support, confidence, lift), end='\\n\\n')"
      ],
      "execution_count": 0,
      "outputs": [
        {
          "output_type": "stream",
          "text": [
            "Association Rules: Min Support = 0.25%, Min Confidence = 70%\n",
            "\n",
            "{633} => {16}\n",
            "Support = 0.002679006332196785, Confidence = 1.0, Lift = 6.1169459962756045\n",
            "\n",
            "{1101} => {16}\n",
            "Support = 0.002618119824646858, Confidence = 1.0, Lift = 6.1169459962756045\n",
            "\n",
            "{4880} => {117}\n",
            "Support = 0.002800779347296639, Confidence = 0.851851851851852, Lift = 7.21176021382207\n",
            "\n",
            "{6035} => {135}\n",
            "Support = 0.002679006332196785, Confidence = 0.9777777777777777, Lift = 36.58091622374082\n",
            "\n",
            "{6386} => {146}\n",
            "Support = 0.004262055528494886, Confidence = 0.9859154929577465, Lift = 29.387796835459216\n",
            "\n"
          ],
          "name": "stdout"
        }
      ]
    },
    {
      "cell_type": "code",
      "metadata": {
        "id": "k_6BrwethU9g",
        "colab_type": "code",
        "colab": {}
      },
      "source": [
        "class ARMInterestMeasures:\n",
        "    \n",
        "    def __init__(self, transactions, antecedent, consequent):\n",
        "        ''' Compute necessary parameters involving antecedent, consequent from transactions '''\n",
        "        \n",
        "        self.transactions = transactions\n",
        "        self.antecedent = antecedent\n",
        "        self.consequent = consequent\n",
        "        \n",
        "        self.n_transactions = len(transactions) # Number of transactions in the database\n",
        "        \n",
        "        self.n_antecedent_present_trans = 0 # Number of transactions that contain antecedent\n",
        "        self.n_consequent_present_trans = 0 # Number of transactions thar contain consequent\n",
        "        self.n_consequent_absent_trans = 0 # Number of transactions that oppose the consequent\n",
        "        self.n_support_trans = 0 # Number of transactions that support rule (A ^ B)\n",
        "        self.n_oppose_trans = 0 # Number of transactions that oppose the rule (A ^ !B)\n",
        "        \n",
        "        for transaction in transactions:\n",
        "            \n",
        "            antecedent_present = self.antecedent <= transaction # Check if antecedent is subset of transaction\n",
        "            consequent_present = self.consequent <= transaction # Check if consequent is subset of transaction\n",
        "            \n",
        "            if antecedent_present:\n",
        "                self.n_antecedent_present_trans += 1\n",
        "                \n",
        "            if consequent_present:\n",
        "                self.n_consequent_present_trans += 1\n",
        "            else:\n",
        "                self.n_consequent_absent_trans += 1\n",
        "                \n",
        "            if antecedent_present and consequent_present:\n",
        "                self.n_support_trans += 1\n",
        "                \n",
        "            if antecedent_present and not consequent_present:\n",
        "                self.n_oppose_trans += 1\n",
        "                \n",
        "                \n",
        "    def computeSupport(self):\n",
        "        ''' Compute the Support of an association rule A -> B\n",
        "        \n",
        "        Formula: n{A U B}/n\n",
        "        Range: [0, 1]\n",
        "        Intreprtation: Measure of popularity of the itemset, as measured by the proportion of transactions in which the \n",
        "        itemset {AUB} appears.\n",
        "        '''\n",
        "            \n",
        "        return self.n_support_trans/self.n_transactions\n",
        "    \n",
        "    def computeConfidence(self):\n",
        "        ''' Compute the confidence of an association rule A->B\n",
        "        \n",
        "        Formula: n{A U B}/n{A}\n",
        "        Range: [0, 1]\n",
        "        Intrepretation: How likey B is purchased, when A is purchased, as measured by the proportion of transactions with \n",
        "        items A in which items B also appears.\n",
        "        '''\n",
        "        \n",
        "        return self.n_support_trans/self.n_antecedent_present_trans\n",
        "    \n",
        "    def computeLift(self):\n",
        "        ''' Compute the lift (or interest) of an association rule A->B\n",
        "        \n",
        "        Formula: support{A U B}/(support{A}.support{B})\n",
        "        Intrepretation: How likely item B is purchased, when item A is purchased, while controlling for how popular B \n",
        "        already is.\n",
        "            \n",
        "            Lift = 1 => No Association b/w items\n",
        "            Lift > 1 => Item B is likely to be brought when item A is brought\n",
        "            Lift < 1 => Item B is unlikely to be brought when item A is brought\n",
        "            \n",
        "        Drawbacks:\n",
        "            - Rules that hold 100% of time, may not have highest possible lift.\n",
        "            - Lift is symmetric, i.e., Lift(A->B) = Lift(B->A)\n",
        "        '''\n",
        "        \n",
        "        return (self.n_support_trans/self.n_transactions)/((self.n_antecedent_present_trans/self.n_transactions)*(self.n_consequent_present_trans/self.n_transactions))\n",
        "    \n",
        "    def computeConviction(self):\n",
        "        ''' Compute the conviction of the rule A->B or !(A & !B)\n",
        "        \n",
        "        Formula: ( support(A) . support(!B) )/support(A and !B)\n",
        "        Range: [0, inf)\n",
        "        Intrepretation: Measure of Implication\n",
        "        '''\n",
        "        div = (self.n_oppose_trans/self.n_transactions)\n",
        "\n",
        "        if div == 0:\n",
        "          result = 0\n",
        "        else:\n",
        "          result = ((self.n_antecedent_present_trans/self.n_transactions)*(self.n_consequent_absent_trans/self.n_transactions))/ div\n",
        "        return result\n",
        "    \n",
        "    def computeLeverage(self):\n",
        "        ''' Compute the leverage (or Piatetsky-Shapiro) of the rule A->B\n",
        "        \n",
        "        Formula: Support(A,B) - Support(A).Support(B)\n",
        "        Intrepretation: Is the 'proportion of additional elements' covered by both the premise and consequence 'above the \n",
        "        expected' if indepedent.\n",
        "        '''\n",
        "        \n",
        "        return (self.n_support_trans/self.n_transactions) - (self.n_antecedent_present_trans/self.n_transactions)*(self.n_consequent_present_trans/self.n_transactions)\n",
        "    \n",
        "    def computeCoverage(self):\n",
        "        ''' Compute the coverage of the rule  A->B\n",
        "        \n",
        "        Formula: support(A)\n",
        "        Range: [0, 1]\n",
        "        '''\n",
        "        \n",
        "        return self.n_antecedent_present_trans/self.n_transactions\n",
        "    \n",
        "    def computeCosineSimilarity(self):\n",
        "        ''' Compute the cosine similarity of the rule A->B \n",
        "        \n",
        "        Formula: Support(A,B)/sqrt(Support(A).Support(B))\n",
        "        '''\n",
        "        \n",
        "        return (self.n_support_trans/self.n_transactions)/np.sqrt((self.n_antecedent_present_trans/self.n_transactions)*(self.n_consequent_present_trans/self.n_transactions))"
      ],
      "execution_count": 0,
      "outputs": []
    },
    {
      "cell_type": "code",
      "metadata": {
        "id": "NlmoT3B9hq0p",
        "colab_type": "code",
        "outputId": "f0cec836-8bb2-4750-c87a-50d775bd9498",
        "colab": {
          "base_uri": "https://localhost:8080/",
          "height": 823
        }
      },
      "source": [
        "for precedent, antecedent in association_rules:\n",
        "    \n",
        "    print(\"{} => {}\".format(precedent, antecedent))\n",
        "    \n",
        "    arm_interest_measures = ARMInterestMeasures(transactions, precedent, antecedent)\n",
        "    print(\"Support = {}\".format(arm_interest_measures.computeSupport()))\n",
        "    print(\"Confidence = {}\".format(arm_interest_measures.computeConfidence()))\n",
        "    print(\"Lift = {}\".format(arm_interest_measures.computeLift()))\n",
        "    print(\"Conviction = {}\".format(arm_interest_measures.computeConviction()))\n",
        "    print(\"Leverage = {}\".format(arm_interest_measures.computeLeverage()))\n",
        "    print(\"Coverage = {}\".format(arm_interest_measures.computeCoverage()))\n",
        "    print(\"Cosine Similarity = {}\".format(arm_interest_measures.computeCosineSimilarity()))\n",
        "    \n",
        "    print()"
      ],
      "execution_count": 0,
      "outputs": [
        {
          "output_type": "stream",
          "text": [
            "{633} => {16}\n",
            "Support = 0.002679006332196785\n",
            "Confidence = 1.0\n",
            "Lift = 6.1169459962756045\n",
            "Conviction = 0\n",
            "Leverage = 0.0022410416462525346\n",
            "Coverage = 0.002679006332196785\n",
            "Cosine Similarity = 0.12801303471806344\n",
            "\n",
            "{1101} => {16}\n",
            "Support = 0.002618119824646858\n",
            "Confidence = 1.0\n",
            "Lift = 6.116945996275605\n",
            "Conviction = 0\n",
            "Leverage = 0.002190108881564977\n",
            "Coverage = 0.002618119824646858\n",
            "Cosine Similarity = 0.1265499805576571\n",
            "\n",
            "{4880} => {117}\n",
            "Support = 0.002800779347296639\n",
            "Confidence = 0.8518518518518519\n",
            "Lift = 7.211760213822069\n",
            "Conviction = 5.952691183633706\n",
            "Leverage = 0.002412416553158162\n",
            "Coverage = 0.0032878714076960544\n",
            "Cosine Similarity = 0.14212159957067907\n",
            "\n",
            "{6035} => {135}\n",
            "Support = 0.002679006332196785\n",
            "Confidence = 0.9777777777777777\n",
            "Lift = 36.58091622374082\n",
            "Conviction = 43.797187043351194\n",
            "Leverage = 0.0026057712520306375\n",
            "Coverage = 0.002739892839746712\n",
            "Cosine Similarity = 0.31305032534875565\n",
            "\n",
            "{6386} => {146}\n",
            "Support = 0.004262055528494886\n",
            "Confidence = 0.9859154929577465\n",
            "Lift = 29.38779683545922\n",
            "Conviction = 68.61805893813931\n",
            "Leverage = 0.0041170274560484235\n",
            "Coverage = 0.004322942036044813\n",
            "Cosine Similarity = 0.3539101891339856\n",
            "\n"
          ],
          "name": "stdout"
        }
      ]
    },
    {
      "cell_type": "code",
      "metadata": {
        "id": "2Aav2bX7nIMZ",
        "colab_type": "code",
        "colab": {}
      },
      "source": [
        ""
      ],
      "execution_count": 0,
      "outputs": []
    }
  ]
}